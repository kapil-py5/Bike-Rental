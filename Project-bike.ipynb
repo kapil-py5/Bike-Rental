{
 "cells": [
  {
   "cell_type": "code",
   "execution_count": 1,
   "metadata": {},
   "outputs": [],
   "source": [
    "import os\n",
    "import pandas as pd\n",
    "import matplotlib.pyplot as plt\n",
    "import seaborn as sns\n",
    "import numpy as np\n",
    "from scipy.stats import chi2_contingency #Importing Libraries for Preprocessing"
   ]
  },
  {
   "cell_type": "code",
   "execution_count": 2,
   "metadata": {},
   "outputs": [
    {
     "data": {
      "text/plain": [
       "'C:\\\\Users\\\\I B BHATT\\\\Desktop\\\\machine learning\\\\edwisor-projects'"
      ]
     },
     "execution_count": 2,
     "metadata": {},
     "output_type": "execute_result"
    }
   ],
   "source": [
    "os.chdir(\"C:\\\\Users\\\\I B BHATT\\\\Desktop\\\\machine learning\\\\edwisor-projects\") #change working directory\n",
    "os.getcwd()"
   ]
  },
  {
   "cell_type": "code",
   "execution_count": 3,
   "metadata": {},
   "outputs": [
    {
     "name": "stdout",
     "output_type": "stream",
     "text": [
      "   instant      dteday  season  yr  mnth  holiday  weekday  workingday  \\\n",
      "0        1  2011-01-01       1   0     1        0        6           0   \n",
      "1        2  2011-01-02       1   0     1        0        0           0   \n",
      "2        3  2011-01-03       1   0     1        0        1           1   \n",
      "3        4  2011-01-04       1   0     1        0        2           1   \n",
      "4        5  2011-01-05       1   0     1        0        3           1   \n",
      "\n",
      "   weathersit      temp     atemp       hum  windspeed  casual  registered  \\\n",
      "0           2  0.344167  0.363625  0.805833   0.160446     331         654   \n",
      "1           2  0.363478  0.353739  0.696087   0.248539     131         670   \n",
      "2           1  0.196364  0.189405  0.437273   0.248309     120        1229   \n",
      "3           1  0.200000  0.212122  0.590435   0.160296     108        1454   \n",
      "4           1  0.226957  0.229270  0.436957   0.186900      82        1518   \n",
      "\n",
      "    cnt  \n",
      "0   985  \n",
      "1   801  \n",
      "2  1349  \n",
      "3  1562  \n",
      "4  1600  \n",
      "(731, 16)\n"
     ]
    }
   ],
   "source": [
    "#Read the data.\n",
    "bike_rental = pd.read_csv(\"day.csv\")\n",
    "print (bike_rental.head())\n",
    "print (bike_rental.shape)"
   ]
  },
  {
   "cell_type": "code",
   "execution_count": 4,
   "metadata": {},
   "outputs": [
    {
     "data": {
      "text/plain": [
       "instant         int64\n",
       "dteday         object\n",
       "season          int64\n",
       "yr              int64\n",
       "mnth            int64\n",
       "holiday         int64\n",
       "weekday         int64\n",
       "workingday      int64\n",
       "weathersit      int64\n",
       "temp          float64\n",
       "atemp         float64\n",
       "hum           float64\n",
       "windspeed     float64\n",
       "casual          int64\n",
       "registered      int64\n",
       "cnt             int64\n",
       "dtype: object"
      ]
     },
     "execution_count": 4,
     "metadata": {},
     "output_type": "execute_result"
    }
   ],
   "source": [
    "#Datatypes of Variables\n",
    "bike_rental.dtypes"
   ]
  },
  {
   "cell_type": "code",
   "execution_count": 5,
   "metadata": {},
   "outputs": [],
   "source": [
    "#Changing numerical datatype of category variables to Categorical data type\n",
    "for i in range(2,9):\n",
    "    bike_rental.iloc[:,i] = bike_rental.iloc[:,i].astype('category')"
   ]
  },
  {
   "cell_type": "code",
   "execution_count": 6,
   "metadata": {},
   "outputs": [
    {
     "data": {
      "text/plain": [
       "instant          int64\n",
       "dteday          object\n",
       "season        category\n",
       "yr            category\n",
       "mnth          category\n",
       "holiday       category\n",
       "weekday       category\n",
       "workingday    category\n",
       "weathersit    category\n",
       "temp           float64\n",
       "atemp          float64\n",
       "hum            float64\n",
       "windspeed      float64\n",
       "casual           int64\n",
       "registered       int64\n",
       "cnt              int64\n",
       "dtype: object"
      ]
     },
     "execution_count": 6,
     "metadata": {},
     "output_type": "execute_result"
    }
   ],
   "source": [
    "bike_rental.dtypes"
   ]
  },
  {
   "cell_type": "code",
   "execution_count": 7,
   "metadata": {},
   "outputs": [],
   "source": [
    "# Denormalizing the data to analyze it better\n",
    "bike_rental.set_index('instant',inplace = True)\n",
    "bike_rental['Actualtemp'] = bike_rental['temp']*47-16\n",
    "bike_rental['Actualatemp'] = bike_rental['atemp']*66-16\n",
    "bike_rental['Humidity'] = bike_rental['hum']*67\n",
    "bike_rental['Actualwindspeed'] = bike_rental['windspeed']*100\n",
    "bike_rental['Season_abbr'] = bike_rental['season'].replace([1,2,3,4],['Spring','Summer','Fall','Winter'])\n",
    "bike_rental['Year'] = bike_rental['yr'].replace([0,1],[2011,2012])\n",
    "bike_rental['Weather Type'] = bike_rental['weathersit'].replace([1,2,3,4],['Clear','Mist','Light Snow','Heavy Rain'])\n"
   ]
  },
  {
   "cell_type": "code",
   "execution_count": 8,
   "metadata": {},
   "outputs": [
    {
     "data": {
      "text/html": [
       "<div>\n",
       "<style scoped>\n",
       "    .dataframe tbody tr th:only-of-type {\n",
       "        vertical-align: middle;\n",
       "    }\n",
       "\n",
       "    .dataframe tbody tr th {\n",
       "        vertical-align: top;\n",
       "    }\n",
       "\n",
       "    .dataframe thead th {\n",
       "        text-align: right;\n",
       "    }\n",
       "</style>\n",
       "<table border=\"1\" class=\"dataframe\">\n",
       "  <thead>\n",
       "    <tr style=\"text-align: right;\">\n",
       "      <th></th>\n",
       "      <th>dteday</th>\n",
       "      <th>season</th>\n",
       "      <th>yr</th>\n",
       "      <th>mnth</th>\n",
       "      <th>holiday</th>\n",
       "      <th>weekday</th>\n",
       "      <th>workingday</th>\n",
       "      <th>weathersit</th>\n",
       "      <th>temp</th>\n",
       "      <th>atemp</th>\n",
       "      <th>...</th>\n",
       "      <th>casual</th>\n",
       "      <th>registered</th>\n",
       "      <th>cnt</th>\n",
       "      <th>Actualtemp</th>\n",
       "      <th>Actualatemp</th>\n",
       "      <th>Humidity</th>\n",
       "      <th>Actualwindspeed</th>\n",
       "      <th>Season_abbr</th>\n",
       "      <th>Year</th>\n",
       "      <th>Weather Type</th>\n",
       "    </tr>\n",
       "    <tr>\n",
       "      <th>instant</th>\n",
       "      <th></th>\n",
       "      <th></th>\n",
       "      <th></th>\n",
       "      <th></th>\n",
       "      <th></th>\n",
       "      <th></th>\n",
       "      <th></th>\n",
       "      <th></th>\n",
       "      <th></th>\n",
       "      <th></th>\n",
       "      <th></th>\n",
       "      <th></th>\n",
       "      <th></th>\n",
       "      <th></th>\n",
       "      <th></th>\n",
       "      <th></th>\n",
       "      <th></th>\n",
       "      <th></th>\n",
       "      <th></th>\n",
       "      <th></th>\n",
       "      <th></th>\n",
       "    </tr>\n",
       "  </thead>\n",
       "  <tbody>\n",
       "    <tr>\n",
       "      <th>1</th>\n",
       "      <td>2011-01-01</td>\n",
       "      <td>1</td>\n",
       "      <td>0</td>\n",
       "      <td>1</td>\n",
       "      <td>0</td>\n",
       "      <td>6</td>\n",
       "      <td>0</td>\n",
       "      <td>2</td>\n",
       "      <td>0.344167</td>\n",
       "      <td>0.363625</td>\n",
       "      <td>...</td>\n",
       "      <td>331</td>\n",
       "      <td>654</td>\n",
       "      <td>985</td>\n",
       "      <td>0.175849</td>\n",
       "      <td>7.999250</td>\n",
       "      <td>53.990811</td>\n",
       "      <td>16.0446</td>\n",
       "      <td>Spring</td>\n",
       "      <td>2011</td>\n",
       "      <td>Mist</td>\n",
       "    </tr>\n",
       "    <tr>\n",
       "      <th>2</th>\n",
       "      <td>2011-01-02</td>\n",
       "      <td>1</td>\n",
       "      <td>0</td>\n",
       "      <td>1</td>\n",
       "      <td>0</td>\n",
       "      <td>0</td>\n",
       "      <td>0</td>\n",
       "      <td>2</td>\n",
       "      <td>0.363478</td>\n",
       "      <td>0.353739</td>\n",
       "      <td>...</td>\n",
       "      <td>131</td>\n",
       "      <td>670</td>\n",
       "      <td>801</td>\n",
       "      <td>1.083466</td>\n",
       "      <td>7.346774</td>\n",
       "      <td>46.637829</td>\n",
       "      <td>24.8539</td>\n",
       "      <td>Spring</td>\n",
       "      <td>2011</td>\n",
       "      <td>Mist</td>\n",
       "    </tr>\n",
       "    <tr>\n",
       "      <th>3</th>\n",
       "      <td>2011-01-03</td>\n",
       "      <td>1</td>\n",
       "      <td>0</td>\n",
       "      <td>1</td>\n",
       "      <td>0</td>\n",
       "      <td>1</td>\n",
       "      <td>1</td>\n",
       "      <td>1</td>\n",
       "      <td>0.196364</td>\n",
       "      <td>0.189405</td>\n",
       "      <td>...</td>\n",
       "      <td>120</td>\n",
       "      <td>1229</td>\n",
       "      <td>1349</td>\n",
       "      <td>-6.770892</td>\n",
       "      <td>-3.499270</td>\n",
       "      <td>29.297291</td>\n",
       "      <td>24.8309</td>\n",
       "      <td>Spring</td>\n",
       "      <td>2011</td>\n",
       "      <td>Clear</td>\n",
       "    </tr>\n",
       "    <tr>\n",
       "      <th>4</th>\n",
       "      <td>2011-01-04</td>\n",
       "      <td>1</td>\n",
       "      <td>0</td>\n",
       "      <td>1</td>\n",
       "      <td>0</td>\n",
       "      <td>2</td>\n",
       "      <td>1</td>\n",
       "      <td>1</td>\n",
       "      <td>0.200000</td>\n",
       "      <td>0.212122</td>\n",
       "      <td>...</td>\n",
       "      <td>108</td>\n",
       "      <td>1454</td>\n",
       "      <td>1562</td>\n",
       "      <td>-6.600000</td>\n",
       "      <td>-1.999948</td>\n",
       "      <td>39.559145</td>\n",
       "      <td>16.0296</td>\n",
       "      <td>Spring</td>\n",
       "      <td>2011</td>\n",
       "      <td>Clear</td>\n",
       "    </tr>\n",
       "    <tr>\n",
       "      <th>5</th>\n",
       "      <td>2011-01-05</td>\n",
       "      <td>1</td>\n",
       "      <td>0</td>\n",
       "      <td>1</td>\n",
       "      <td>0</td>\n",
       "      <td>3</td>\n",
       "      <td>1</td>\n",
       "      <td>1</td>\n",
       "      <td>0.226957</td>\n",
       "      <td>0.229270</td>\n",
       "      <td>...</td>\n",
       "      <td>82</td>\n",
       "      <td>1518</td>\n",
       "      <td>1600</td>\n",
       "      <td>-5.333021</td>\n",
       "      <td>-0.868180</td>\n",
       "      <td>29.276119</td>\n",
       "      <td>18.6900</td>\n",
       "      <td>Spring</td>\n",
       "      <td>2011</td>\n",
       "      <td>Clear</td>\n",
       "    </tr>\n",
       "  </tbody>\n",
       "</table>\n",
       "<p>5 rows × 22 columns</p>\n",
       "</div>"
      ],
      "text/plain": [
       "             dteday season yr mnth holiday weekday workingday weathersit  \\\n",
       "instant                                                                    \n",
       "1        2011-01-01      1  0    1       0       6          0          2   \n",
       "2        2011-01-02      1  0    1       0       0          0          2   \n",
       "3        2011-01-03      1  0    1       0       1          1          1   \n",
       "4        2011-01-04      1  0    1       0       2          1          1   \n",
       "5        2011-01-05      1  0    1       0       3          1          1   \n",
       "\n",
       "             temp     atemp     ...       casual  registered   cnt  \\\n",
       "instant                         ...                                  \n",
       "1        0.344167  0.363625     ...          331         654   985   \n",
       "2        0.363478  0.353739     ...          131         670   801   \n",
       "3        0.196364  0.189405     ...          120        1229  1349   \n",
       "4        0.200000  0.212122     ...          108        1454  1562   \n",
       "5        0.226957  0.229270     ...           82        1518  1600   \n",
       "\n",
       "         Actualtemp  Actualatemp   Humidity  Actualwindspeed  Season_abbr  \\\n",
       "instant                                                                     \n",
       "1          0.175849     7.999250  53.990811          16.0446       Spring   \n",
       "2          1.083466     7.346774  46.637829          24.8539       Spring   \n",
       "3         -6.770892    -3.499270  29.297291          24.8309       Spring   \n",
       "4         -6.600000    -1.999948  39.559145          16.0296       Spring   \n",
       "5         -5.333021    -0.868180  29.276119          18.6900       Spring   \n",
       "\n",
       "         Year Weather Type  \n",
       "instant                     \n",
       "1        2011         Mist  \n",
       "2        2011         Mist  \n",
       "3        2011        Clear  \n",
       "4        2011        Clear  \n",
       "5        2011        Clear  \n",
       "\n",
       "[5 rows x 22 columns]"
      ]
     },
     "execution_count": 8,
     "metadata": {},
     "output_type": "execute_result"
    }
   ],
   "source": [
    "bike_rental.head()"
   ]
  },
  {
   "cell_type": "code",
   "execution_count": 9,
   "metadata": {},
   "outputs": [],
   "source": [
    "#changing new categorical variaables data type\n",
    "for i in range(-3,0):\n",
    "    bike_rental.iloc[:,i] = bike_rental.iloc[:,i].astype('category')"
   ]
  },
  {
   "cell_type": "code",
   "execution_count": 10,
   "metadata": {},
   "outputs": [
    {
     "data": {
      "text/plain": [
       "dteday             0\n",
       "season             0\n",
       "yr                 0\n",
       "mnth               0\n",
       "holiday            0\n",
       "weekday            0\n",
       "workingday         0\n",
       "weathersit         0\n",
       "temp               0\n",
       "atemp              0\n",
       "hum                0\n",
       "windspeed          0\n",
       "casual             0\n",
       "registered         0\n",
       "cnt                0\n",
       "Actualtemp         0\n",
       "Actualatemp        0\n",
       "Humidity           0\n",
       "Actualwindspeed    0\n",
       "Season_abbr        0\n",
       "Year               0\n",
       "Weather Type       0\n",
       "dtype: int64"
      ]
     },
     "execution_count": 10,
     "metadata": {},
     "output_type": "execute_result"
    }
   ],
   "source": [
    "#Missing Value Analysis\n",
    "bike_rental.isnull().sum()"
   ]
  },
  {
   "cell_type": "code",
   "execution_count": 11,
   "metadata": {},
   "outputs": [
    {
     "name": "stderr",
     "output_type": "stream",
     "text": [
      "C:\\ProgramData\\Anaconda3\\lib\\site-packages\\scipy\\stats\\stats.py:1713: FutureWarning: Using a non-tuple sequence for multidimensional indexing is deprecated; use `arr[tuple(seq)]` instead of `arr[seq]`. In the future this will be interpreted as an array index, `arr[np.array(seq)]`, which will result either in an error or a different result.\n",
      "  return np.add.reduce(sorted[indexer] * weights, axis=axis) / sumval\n"
     ]
    },
    {
     "data": {
      "text/plain": [
       "<matplotlib.axes._subplots.AxesSubplot at 0x27a8d3f4c88>"
      ]
     },
     "execution_count": 11,
     "metadata": {},
     "output_type": "execute_result"
    },
    {
     "data": {
      "image/png": "[encoded data removed]",
      "text/plain": [
       "<Figure size 720x720 with 4 Axes>"
      ]
     },
     "metadata": {},
     "output_type": "display_data"
    }
   ],
   "source": [
    "#Plotting Histogram for univariate analysis by using seaborn library\n",
    "sns.set_style(\"whitegrid\")\n",
    "plt.figure(figsize = (10,10))\n",
    "plt.subplot(2,2,1)\n",
    "sns.distplot(bike_rental['Actualtemp'],kde= False)\n",
    "plt.subplot(2,2,2)\n",
    "sns.distplot(bike_rental['Actualatemp'],kde= False)\n",
    "plt.subplot(2,2,3)\n",
    "sns.distplot(bike_rental['Humidity'],kde= False)\n",
    "plt.subplot(2,2,4)\n",
    "sns.distplot(bike_rental['Actualwindspeed'],kde= False)\n"
   ]
  },
  {
   "cell_type": "code",
   "execution_count": 12,
   "metadata": {},
   "outputs": [
    {
     "data": {
      "text/plain": [
       "<matplotlib.axes._subplots.AxesSubplot at 0x27a8e9c7160>"
      ]
     },
     "execution_count": 12,
     "metadata": {},
     "output_type": "execute_result"
    },
    {
     "data": {
      "image/png": "[encoded data removed]",
      "text/plain": [
       "<Figure size 720x720 with 1 Axes>"
      ]
     },
     "metadata": {},
     "output_type": "display_data"
    }
   ],
   "source": [
    "#Plotting bar graph of categorical variable with matplotlib (just an example)\n",
    "season = bike_rental.groupby('Season_abbr').cnt.sum()\n",
    "#year = bike_rental.groupby('Year').cnt.sum()\n",
    "#Weather = bike_rental.groupby('Weather Type').cnt.sum()\n",
    "bar = plt.figure()\n",
    "plot1 = bar.add_subplot(1,1,1)\n",
    "plot1.set_xlabel('Season_abbr')\n",
    "plot1.set_ylabel('Sum of count')\n",
    "plot1.set_title(\"Season_abbr impact\")\n",
    "season.plot(kind='bar',figsize = (10,10))"
   ]
  },
  {
   "cell_type": "code",
   "execution_count": 14,
   "metadata": {},
   "outputs": [
    {
     "name": "stderr",
     "output_type": "stream",
     "text": [
      "C:\\ProgramData\\Anaconda3\\lib\\site-packages\\scipy\\stats\\stats.py:1713: FutureWarning: Using a non-tuple sequence for multidimensional indexing is deprecated; use `arr[tuple(seq)]` instead of `arr[seq]`. In the future this will be interpreted as an array index, `arr[np.array(seq)]`, which will result either in an error or a different result.\n",
      "  return np.add.reduce(sorted[indexer] * weights, axis=axis) / sumval\n"
     ]
    },
    {
     "data": {
      "text/plain": [
       "<matplotlib.axes._subplots.AxesSubplot at 0x27a8ed1ac18>"
      ]
     },
     "execution_count": 14,
     "metadata": {},
     "output_type": "execute_result"
    },
    {
     "data": {
      "image/png": "[encoded data removed]",
      "text/plain": [
       "<Figure size 1440x1440 with 6 Axes>"
      ]
     },
     "metadata": {},
     "output_type": "display_data"
    }
   ],
   "source": [
    "#Plotting bar graphs using seaborn library\n",
    "sns.set_style(\"whitegrid\")\n",
    "plt.figure(figsize = (20,20))\n",
    "plt.subplot(3,2,1)\n",
    "sns.barplot(\"Season_abbr\",\"cnt\",estimator =sum, data=bike_rental) #estimator is mean by default\n",
    "plt.subplot(3,2,2)\n",
    "sns.barplot(\"Weather Type\",\"cnt\",estimator =sum, data=bike_rental)\n",
    "plt.subplot(3,2,3)\n",
    "sns.barplot(\"Year\",\"cnt\",estimator =sum, data=bike_rental)\n",
    "plt.subplot(3,2,4)\n",
    "sns.barplot(\"holiday\",\"cnt\",estimator =sum, data=bike_rental)\n",
    "plt.subplot(3,2,5)\n",
    "sns.barplot(\"mnth\",\"cnt\",estimator =sum, data=bike_rental)\n",
    "plt.subplot(3,2,6)\n",
    "sns.barplot(\"weekday\",\"cnt\",estimator =sum, data=bike_rental)\n",
    "\n"
   ]
  },
  {
   "cell_type": "code",
   "execution_count": 15,
   "metadata": {},
   "outputs": [
    {
     "data": {
      "text/plain": [
       "<matplotlib.axes._subplots.AxesSubplot at 0x27a8efa59e8>"
      ]
     },
     "execution_count": 15,
     "metadata": {},
     "output_type": "execute_result"
    },
    {
     "data": {
      "image/png": "[encoded data removed]",
      "text/plain": [
       "<Figure size 720x576 with 1 Axes>"
      ]
     },
     "metadata": {},
     "output_type": "display_data"
    }
   ],
   "source": [
    "#Outlier Analysis using Box plots\n",
    "plt.figure(figsize = (10,8))\n",
    "sns.boxplot(data=bike_rental.iloc[:,-7)"
   ]
  },
  {
   "cell_type": "code",
   "execution_count": 16,
   "metadata": {
    "scrolled": false
   },
   "outputs": [],
   "source": [
    "#Outlier Removal from Humidity\n",
    "q_25,q_75 = np.percentile(bike_rental['Humidity'],[25,75])\n",
    "iqr = q_75 -q_25\n",
    "max_out = q_75 + (iqr*1.5)\n",
    "min_out = q_25 - (iqr*1.5) \n",
    "bike_rental = bike_rental.drop(bike_rental[bike_rental.Humidity>max_out].index)\n",
    "bike_rental = bike_rental.drop(bike_rental[bike_rental.Humidity<min_out].index)\n"
   ]
  },
  {
   "cell_type": "code",
   "execution_count": 17,
   "metadata": {},
   "outputs": [],
   "source": [
    "#Outlier Removal from windspeed\n",
    "q_25,q_75 = np.percentile(bike_rental['Actualwindspeed'],[25,75])\n",
    "iqr = q_75 -q_25\n",
    "max_out = q_75+ (iqr*1.5)\n",
    "min_out = q_25 - (iqr*1.5)\n",
    "bike_rental = bike_rental.drop(bike_rental[bike_rental.Actualwindspeed>max_out].index)\n",
    "bike_rental = bike_rental.drop(bike_rental[bike_rental.Actualwindspeed<min_out].index)\n"
   ]
  },
  {
   "cell_type": "code",
   "execution_count": 18,
   "metadata": {},
   "outputs": [
    {
     "data": {
      "text/plain": [
       "<matplotlib.axes._subplots.AxesSubplot at 0x27a8f591a90>"
      ]
     },
     "execution_count": 18,
     "metadata": {},
     "output_type": "execute_result"
    },
    {
     "data": {
      "image/png": "[encoded data removed]",
      "text/plain": [
       "<Figure size 720x576 with 1 Axes>"
      ]
     },
     "metadata": {},
     "output_type": "display_data"
    }
   ],
   "source": [
    "#boxplot after outlier removal\n",
    "plt.figure(figsize = (10,8))\n",
    "sns.boxplot(data=bike_rental.iloc[:,-7:-3])"
   ]
  },
  {
   "cell_type": "code",
   "execution_count": 19,
   "metadata": {},
   "outputs": [
    {
     "data": {
      "text/plain": [
       "<matplotlib.axes._subplots.AxesSubplot at 0x27a8fe94080>"
      ]
     },
     "execution_count": 19,
     "metadata": {},
     "output_type": "execute_result"
    },
    {
     "data": {
      "image/png": "[encoded data removed]",
      "text/plain": [
       "<Figure size 633.6x633.6 with 4 Axes>"
      ]
     },
     "metadata": {},
     "output_type": "display_data"
    }
   ],
   "source": [
    "#Scatter plot of continuous variable with count using sns,scatterplot\n",
    "plt.figure(figsize = (8.8,8.8))\n",
    "plt.subplot(2,2,1)\n",
    "sns.scatterplot(bike_rental['Actualtemp'],bike_rental['cnt'])\n",
    "plt.subplot(2,2,2)\n",
    "sns.scatterplot(bike_rental['Actualatemp'],bike_rental['cnt'])\n",
    "plt.subplot(2,2,3)\n",
    "sns.scatterplot(bike_rental['Humidity'],bike_rental['cnt'])\n",
    "plt.subplot(2,2,4)\n",
    "sns.scatterplot(bike_rental['Actualwindspeed'],bike_rental['cnt'])"
   ]
  },
  {
   "cell_type": "code",
   "execution_count": 20,
   "metadata": {},
   "outputs": [
    {
     "data": {
      "text/html": [
       "<div>\n",
       "<style scoped>\n",
       "    .dataframe tbody tr th:only-of-type {\n",
       "        vertical-align: middle;\n",
       "    }\n",
       "\n",
       "    .dataframe tbody tr th {\n",
       "        vertical-align: top;\n",
       "    }\n",
       "\n",
       "    .dataframe thead th {\n",
       "        text-align: right;\n",
       "    }\n",
       "</style>\n",
       "<table border=\"1\" class=\"dataframe\">\n",
       "  <thead>\n",
       "    <tr style=\"text-align: right;\">\n",
       "      <th></th>\n",
       "      <th>temp</th>\n",
       "      <th>atemp</th>\n",
       "      <th>hum</th>\n",
       "      <th>windspeed</th>\n",
       "      <th>casual</th>\n",
       "      <th>registered</th>\n",
       "      <th>cnt</th>\n",
       "      <th>Actualtemp</th>\n",
       "      <th>Actualatemp</th>\n",
       "      <th>Humidity</th>\n",
       "      <th>Actualwindspeed</th>\n",
       "    </tr>\n",
       "  </thead>\n",
       "  <tbody>\n",
       "    <tr>\n",
       "      <th>temp</th>\n",
       "      <td>1.000000</td>\n",
       "      <td>0.991738</td>\n",
       "      <td>0.114191</td>\n",
       "      <td>-0.140169</td>\n",
       "      <td>0.539714</td>\n",
       "      <td>0.538095</td>\n",
       "      <td>0.625892</td>\n",
       "      <td>1.000000</td>\n",
       "      <td>0.991738</td>\n",
       "      <td>0.114191</td>\n",
       "      <td>-0.140169</td>\n",
       "    </tr>\n",
       "    <tr>\n",
       "      <th>atemp</th>\n",
       "      <td>0.991738</td>\n",
       "      <td>1.000000</td>\n",
       "      <td>0.126587</td>\n",
       "      <td>-0.166038</td>\n",
       "      <td>0.540234</td>\n",
       "      <td>0.541977</td>\n",
       "      <td>0.629204</td>\n",
       "      <td>0.991738</td>\n",
       "      <td>1.000000</td>\n",
       "      <td>0.126587</td>\n",
       "      <td>-0.166038</td>\n",
       "    </tr>\n",
       "    <tr>\n",
       "      <th>hum</th>\n",
       "      <td>0.114191</td>\n",
       "      <td>0.126587</td>\n",
       "      <td>1.000000</td>\n",
       "      <td>-0.204496</td>\n",
       "      <td>-0.101439</td>\n",
       "      <td>-0.124701</td>\n",
       "      <td>-0.136621</td>\n",
       "      <td>0.114191</td>\n",
       "      <td>0.126587</td>\n",
       "      <td>1.000000</td>\n",
       "      <td>-0.204496</td>\n",
       "    </tr>\n",
       "    <tr>\n",
       "      <th>windspeed</th>\n",
       "      <td>-0.140169</td>\n",
       "      <td>-0.166038</td>\n",
       "      <td>-0.204496</td>\n",
       "      <td>1.000000</td>\n",
       "      <td>-0.146178</td>\n",
       "      <td>-0.203677</td>\n",
       "      <td>-0.216193</td>\n",
       "      <td>-0.140169</td>\n",
       "      <td>-0.166038</td>\n",
       "      <td>-0.204496</td>\n",
       "      <td>1.000000</td>\n",
       "    </tr>\n",
       "    <tr>\n",
       "      <th>casual</th>\n",
       "      <td>0.539714</td>\n",
       "      <td>0.540234</td>\n",
       "      <td>-0.101439</td>\n",
       "      <td>-0.146178</td>\n",
       "      <td>1.000000</td>\n",
       "      <td>0.389848</td>\n",
       "      <td>0.670547</td>\n",
       "      <td>0.539714</td>\n",
       "      <td>0.540234</td>\n",
       "      <td>-0.101439</td>\n",
       "      <td>-0.146178</td>\n",
       "    </tr>\n",
       "    <tr>\n",
       "      <th>registered</th>\n",
       "      <td>0.538095</td>\n",
       "      <td>0.541977</td>\n",
       "      <td>-0.124701</td>\n",
       "      <td>-0.203677</td>\n",
       "      <td>0.389848</td>\n",
       "      <td>1.000000</td>\n",
       "      <td>0.944581</td>\n",
       "      <td>0.538095</td>\n",
       "      <td>0.541977</td>\n",
       "      <td>-0.124701</td>\n",
       "      <td>-0.203677</td>\n",
       "    </tr>\n",
       "    <tr>\n",
       "      <th>cnt</th>\n",
       "      <td>0.625892</td>\n",
       "      <td>0.629204</td>\n",
       "      <td>-0.136621</td>\n",
       "      <td>-0.216193</td>\n",
       "      <td>0.670547</td>\n",
       "      <td>0.944581</td>\n",
       "      <td>1.000000</td>\n",
       "      <td>0.625892</td>\n",
       "      <td>0.629204</td>\n",
       "      <td>-0.136621</td>\n",
       "      <td>-0.216193</td>\n",
       "    </tr>\n",
       "    <tr>\n",
       "      <th>Actualtemp</th>\n",
       "      <td>1.000000</td>\n",
       "      <td>0.991738</td>\n",
       "      <td>0.114191</td>\n",
       "      <td>-0.140169</td>\n",
       "      <td>0.539714</td>\n",
       "      <td>0.538095</td>\n",
       "      <td>0.625892</td>\n",
       "      <td>1.000000</td>\n",
       "      <td>0.991738</td>\n",
       "      <td>0.114191</td>\n",
       "      <td>-0.140169</td>\n",
       "    </tr>\n",
       "    <tr>\n",
       "      <th>Actualatemp</th>\n",
       "      <td>0.991738</td>\n",
       "      <td>1.000000</td>\n",
       "      <td>0.126587</td>\n",
       "      <td>-0.166038</td>\n",
       "      <td>0.540234</td>\n",
       "      <td>0.541977</td>\n",
       "      <td>0.629204</td>\n",
       "      <td>0.991738</td>\n",
       "      <td>1.000000</td>\n",
       "      <td>0.126587</td>\n",
       "      <td>-0.166038</td>\n",
       "    </tr>\n",
       "    <tr>\n",
       "      <th>Humidity</th>\n",
       "      <td>0.114191</td>\n",
       "      <td>0.126587</td>\n",
       "      <td>1.000000</td>\n",
       "      <td>-0.204496</td>\n",
       "      <td>-0.101439</td>\n",
       "      <td>-0.124701</td>\n",
       "      <td>-0.136621</td>\n",
       "      <td>0.114191</td>\n",
       "      <td>0.126587</td>\n",
       "      <td>1.000000</td>\n",
       "      <td>-0.204496</td>\n",
       "    </tr>\n",
       "    <tr>\n",
       "      <th>Actualwindspeed</th>\n",
       "      <td>-0.140169</td>\n",
       "      <td>-0.166038</td>\n",
       "      <td>-0.204496</td>\n",
       "      <td>1.000000</td>\n",
       "      <td>-0.146178</td>\n",
       "      <td>-0.203677</td>\n",
       "      <td>-0.216193</td>\n",
       "      <td>-0.140169</td>\n",
       "      <td>-0.166038</td>\n",
       "      <td>-0.204496</td>\n",
       "      <td>1.000000</td>\n",
       "    </tr>\n",
       "  </tbody>\n",
       "</table>\n",
       "</div>"
      ],
      "text/plain": [
       "                     temp     atemp       hum  windspeed    casual  \\\n",
       "temp             1.000000  0.991738  0.114191  -0.140169  0.539714   \n",
       "atemp            0.991738  1.000000  0.126587  -0.166038  0.540234   \n",
       "hum              0.114191  0.126587  1.000000  -0.204496 -0.101439   \n",
       "windspeed       -0.140169 -0.166038 -0.204496   1.000000 -0.146178   \n",
       "casual           0.539714  0.540234 -0.101439  -0.146178  1.000000   \n",
       "registered       0.538095  0.541977 -0.124701  -0.203677  0.389848   \n",
       "cnt              0.625892  0.629204 -0.136621  -0.216193  0.670547   \n",
       "Actualtemp       1.000000  0.991738  0.114191  -0.140169  0.539714   \n",
       "Actualatemp      0.991738  1.000000  0.126587  -0.166038  0.540234   \n",
       "Humidity         0.114191  0.126587  1.000000  -0.204496 -0.101439   \n",
       "Actualwindspeed -0.140169 -0.166038 -0.204496   1.000000 -0.146178   \n",
       "\n",
       "                 registered       cnt  Actualtemp  Actualatemp  Humidity  \\\n",
       "temp               0.538095  0.625892    1.000000     0.991738  0.114191   \n",
       "atemp              0.541977  0.629204    0.991738     1.000000  0.126587   \n",
       "hum               -0.124701 -0.136621    0.114191     0.126587  1.000000   \n",
       "windspeed         -0.203677 -0.216193   -0.140169    -0.166038 -0.204496   \n",
       "casual             0.389848  0.670547    0.539714     0.540234 -0.101439   \n",
       "registered         1.000000  0.944581    0.538095     0.541977 -0.124701   \n",
       "cnt                0.944581  1.000000    0.625892     0.629204 -0.136621   \n",
       "Actualtemp         0.538095  0.625892    1.000000     0.991738  0.114191   \n",
       "Actualatemp        0.541977  0.629204    0.991738     1.000000  0.126587   \n",
       "Humidity          -0.124701 -0.136621    0.114191     0.126587  1.000000   \n",
       "Actualwindspeed   -0.203677 -0.216193   -0.140169    -0.166038 -0.204496   \n",
       "\n",
       "                 Actualwindspeed  \n",
       "temp                   -0.140169  \n",
       "atemp                  -0.166038  \n",
       "hum                    -0.204496  \n",
       "windspeed               1.000000  \n",
       "casual                 -0.146178  \n",
       "registered             -0.203677  \n",
       "cnt                    -0.216193  \n",
       "Actualtemp             -0.140169  \n",
       "Actualatemp            -0.166038  \n",
       "Humidity               -0.204496  \n",
       "Actualwindspeed         1.000000  "
      ]
     },
     "execution_count": 20,
     "metadata": {},
     "output_type": "execute_result"
    }
   ],
   "source": [
    "#Feature Selection Correlation Analysis\n",
    "bike_rental.corr()"
   ]
  },
  {
   "cell_type": "code",
   "execution_count": 21,
   "metadata": {},
   "outputs": [
    {
     "data": {
      "text/plain": [
       "<matplotlib.axes._subplots.AxesSubplot at 0x27a8fc62748>"
      ]
     },
     "execution_count": 21,
     "metadata": {},
     "output_type": "execute_result"
    },
    {
     "data": {
      "image/png": "[encoded data removed]",
      "text/plain": [
       "<Figure size 432x288 with 1 Axes>"
      ]
     },
     "metadata": {},
     "output_type": "display_data"
    }
   ],
   "source": [
    "#scatter plot after finding higher correlation\n",
    "sns.scatterplot(bike_rental['Actualtemp'],bike_rental['Actualatemp'])"
   ]
  },
  {
   "cell_type": "code",
   "execution_count": 22,
   "metadata": {},
   "outputs": [
    {
     "name": "stdout",
     "output_type": "stream",
     "text": [
      "season\n",
      "season 0.0\n",
      "yr 0.9988045067892455\n",
      "holiday 0.6405517686631514\n",
      "mnth 0.0\n",
      "weekday 0.9999999999863494\n",
      "workingday 0.9463398722072747\n",
      "weathersit 0.013247578525739488\n",
      "yr\n",
      "season 0.9988045067892455\n",
      "yr 4.442158824710222e-157\n",
      "holiday 0.9948241356272471\n",
      "mnth 0.9999999927410976\n",
      "weekday 0.9999604571058672\n",
      "workingday 0.9561016545276555\n",
      "weathersit 0.18324950388069816\n",
      "holiday\n",
      "season 0.6405517686631514\n",
      "yr 0.9948241356272471\n",
      "holiday 2.156836435770226e-150\n",
      "mnth 0.5712387246753158\n",
      "weekday 5.970403488048813e-11\n",
      "workingday 3.657542973609387e-11\n",
      "weathersit 0.598729576961958\n",
      "mnth\n",
      "season 0.0\n",
      "yr 0.9999999927410976\n",
      "holiday 0.5712387246753159\n",
      "mnth 0.0\n",
      "weekday 1.0\n",
      "workingday 0.9927345951681769\n",
      "weathersit 0.009828298805339369\n",
      "weekday\n",
      "season 0.9999999999863494\n",
      "yr 0.9999604571058672\n",
      "holiday 5.970403488048769e-11\n",
      "mnth 1.0\n",
      "weekday 0.0\n",
      "workingday 6.5004884278590235e-133\n",
      "weathersit 0.249037777972434\n",
      "workingday\n",
      "season 0.9463398722072747\n",
      "yr 0.9561016545276555\n",
      "holiday 3.657542973609387e-11\n",
      "mnth 0.9927345951681769\n",
      "weekday 6.500488427859394e-133\n",
      "workingday 6.092456122340329e-157\n",
      "weathersit 0.29378063894722545\n",
      "weathersit\n",
      "season 0.013247578525739488\n",
      "yr 0.18324950388069816\n",
      "holiday 0.598729576961958\n",
      "mnth 0.009828298805339369\n",
      "weekday 0.249037777972434\n",
      "workingday 0.29378063894722545\n",
      "weathersit 2.930764481570484e-309\n"
     ]
    }
   ],
   "source": [
    "#chi square test- just an example. got holiday highly dependent here\n",
    "cat_names = [\"season\", \"yr\",\"holiday\", \"mnth\", \"weekday\", \"workingday\", \"weathersit\"]\n",
    "for i in cat_names:\n",
    "    print (i)\n",
    "    for j in cat_names:\n",
    "        chi2,p,dof,ex = chi2_contingency(pd.crosstab(bike_rental[j],bike_rental[i]))\n",
    "        print (j +\" \" + str(p))\n"
   ]
  },
  {
   "cell_type": "code",
   "execution_count": 23,
   "metadata": {},
   "outputs": [],
   "source": [
    "#dropping of variables after feature selection\n",
    "bike_rental = bike_rental.drop(['atemp','dteday','casual','registered','Actualatemp','Actualtemp','Humidity','Actualwindspeed','holiday','Season_abbr','Year','Weather Type'],axis= 1)"
   ]
  },
  {
   "cell_type": "markdown",
   "metadata": {},
   "source": [
    "## Modelling "
   ]
  },
  {
   "cell_type": "code",
   "execution_count": 24,
   "metadata": {},
   "outputs": [],
   "source": [
    "#Linear Regression\n",
    "import statsmodels.api as sm\n",
    "from sklearn.model_selection import train_test_split\n",
    "from sklearn.metrics import r2_score"
   ]
  },
  {
   "cell_type": "code",
   "execution_count": 25,
   "metadata": {},
   "outputs": [
    {
     "data": {
      "text/html": [
       "<div>\n",
       "<style scoped>\n",
       "    .dataframe tbody tr th:only-of-type {\n",
       "        vertical-align: middle;\n",
       "    }\n",
       "\n",
       "    .dataframe tbody tr th {\n",
       "        vertical-align: top;\n",
       "    }\n",
       "\n",
       "    .dataframe thead th {\n",
       "        text-align: right;\n",
       "    }\n",
       "</style>\n",
       "<table border=\"1\" class=\"dataframe\">\n",
       "  <thead>\n",
       "    <tr style=\"text-align: right;\">\n",
       "      <th></th>\n",
       "      <th>season</th>\n",
       "      <th>yr</th>\n",
       "      <th>mnth</th>\n",
       "      <th>weekday</th>\n",
       "      <th>workingday</th>\n",
       "      <th>weathersit</th>\n",
       "      <th>temp</th>\n",
       "      <th>hum</th>\n",
       "      <th>windspeed</th>\n",
       "      <th>cnt</th>\n",
       "    </tr>\n",
       "    <tr>\n",
       "      <th>instant</th>\n",
       "      <th></th>\n",
       "      <th></th>\n",
       "      <th></th>\n",
       "      <th></th>\n",
       "      <th></th>\n",
       "      <th></th>\n",
       "      <th></th>\n",
       "      <th></th>\n",
       "      <th></th>\n",
       "      <th></th>\n",
       "    </tr>\n",
       "  </thead>\n",
       "  <tbody>\n",
       "    <tr>\n",
       "      <th>1</th>\n",
       "      <td>1</td>\n",
       "      <td>0</td>\n",
       "      <td>1</td>\n",
       "      <td>6</td>\n",
       "      <td>0</td>\n",
       "      <td>2</td>\n",
       "      <td>0.344167</td>\n",
       "      <td>0.805833</td>\n",
       "      <td>0.160446</td>\n",
       "      <td>985</td>\n",
       "    </tr>\n",
       "    <tr>\n",
       "      <th>2</th>\n",
       "      <td>1</td>\n",
       "      <td>0</td>\n",
       "      <td>1</td>\n",
       "      <td>0</td>\n",
       "      <td>0</td>\n",
       "      <td>2</td>\n",
       "      <td>0.363478</td>\n",
       "      <td>0.696087</td>\n",
       "      <td>0.248539</td>\n",
       "      <td>801</td>\n",
       "    </tr>\n",
       "    <tr>\n",
       "      <th>3</th>\n",
       "      <td>1</td>\n",
       "      <td>0</td>\n",
       "      <td>1</td>\n",
       "      <td>1</td>\n",
       "      <td>1</td>\n",
       "      <td>1</td>\n",
       "      <td>0.196364</td>\n",
       "      <td>0.437273</td>\n",
       "      <td>0.248309</td>\n",
       "      <td>1349</td>\n",
       "    </tr>\n",
       "    <tr>\n",
       "      <th>4</th>\n",
       "      <td>1</td>\n",
       "      <td>0</td>\n",
       "      <td>1</td>\n",
       "      <td>2</td>\n",
       "      <td>1</td>\n",
       "      <td>1</td>\n",
       "      <td>0.200000</td>\n",
       "      <td>0.590435</td>\n",
       "      <td>0.160296</td>\n",
       "      <td>1562</td>\n",
       "    </tr>\n",
       "    <tr>\n",
       "      <th>5</th>\n",
       "      <td>1</td>\n",
       "      <td>0</td>\n",
       "      <td>1</td>\n",
       "      <td>3</td>\n",
       "      <td>1</td>\n",
       "      <td>1</td>\n",
       "      <td>0.226957</td>\n",
       "      <td>0.436957</td>\n",
       "      <td>0.186900</td>\n",
       "      <td>1600</td>\n",
       "    </tr>\n",
       "  </tbody>\n",
       "</table>\n",
       "</div>"
      ],
      "text/plain": [
       "        season yr mnth weekday workingday weathersit      temp       hum  \\\n",
       "instant                                                                    \n",
       "1            1  0    1       6          0          2  0.344167  0.805833   \n",
       "2            1  0    1       0          0          2  0.363478  0.696087   \n",
       "3            1  0    1       1          1          1  0.196364  0.437273   \n",
       "4            1  0    1       2          1          1  0.200000  0.590435   \n",
       "5            1  0    1       3          1          1  0.226957  0.436957   \n",
       "\n",
       "         windspeed   cnt  \n",
       "instant                   \n",
       "1         0.160446   985  \n",
       "2         0.248539   801  \n",
       "3         0.248309  1349  \n",
       "4         0.160296  1562  \n",
       "5         0.186900  1600  "
      ]
     },
     "execution_count": 25,
     "metadata": {},
     "output_type": "execute_result"
    }
   ],
   "source": [
    "bike_rental.head()"
   ]
  },
  {
   "cell_type": "code",
   "execution_count": 26,
   "metadata": {},
   "outputs": [],
   "source": [
    "bike_rental_v2 = bike_rental[['cnt','hum','windspeed','temp']]"
   ]
  },
  {
   "cell_type": "code",
   "execution_count": 27,
   "metadata": {},
   "outputs": [
    {
     "data": {
      "text/html": [
       "<div>\n",
       "<style scoped>\n",
       "    .dataframe tbody tr th:only-of-type {\n",
       "        vertical-align: middle;\n",
       "    }\n",
       "\n",
       "    .dataframe tbody tr th {\n",
       "        vertical-align: top;\n",
       "    }\n",
       "\n",
       "    .dataframe thead th {\n",
       "        text-align: right;\n",
       "    }\n",
       "</style>\n",
       "<table border=\"1\" class=\"dataframe\">\n",
       "  <thead>\n",
       "    <tr style=\"text-align: right;\">\n",
       "      <th></th>\n",
       "      <th>cnt</th>\n",
       "      <th>hum</th>\n",
       "      <th>windspeed</th>\n",
       "      <th>temp</th>\n",
       "    </tr>\n",
       "    <tr>\n",
       "      <th>instant</th>\n",
       "      <th></th>\n",
       "      <th></th>\n",
       "      <th></th>\n",
       "      <th></th>\n",
       "    </tr>\n",
       "  </thead>\n",
       "  <tbody>\n",
       "    <tr>\n",
       "      <th>1</th>\n",
       "      <td>985</td>\n",
       "      <td>0.805833</td>\n",
       "      <td>0.160446</td>\n",
       "      <td>0.344167</td>\n",
       "    </tr>\n",
       "    <tr>\n",
       "      <th>2</th>\n",
       "      <td>801</td>\n",
       "      <td>0.696087</td>\n",
       "      <td>0.248539</td>\n",
       "      <td>0.363478</td>\n",
       "    </tr>\n",
       "    <tr>\n",
       "      <th>3</th>\n",
       "      <td>1349</td>\n",
       "      <td>0.437273</td>\n",
       "      <td>0.248309</td>\n",
       "      <td>0.196364</td>\n",
       "    </tr>\n",
       "    <tr>\n",
       "      <th>4</th>\n",
       "      <td>1562</td>\n",
       "      <td>0.590435</td>\n",
       "      <td>0.160296</td>\n",
       "      <td>0.200000</td>\n",
       "    </tr>\n",
       "    <tr>\n",
       "      <th>5</th>\n",
       "      <td>1600</td>\n",
       "      <td>0.436957</td>\n",
       "      <td>0.186900</td>\n",
       "      <td>0.226957</td>\n",
       "    </tr>\n",
       "  </tbody>\n",
       "</table>\n",
       "</div>"
      ],
      "text/plain": [
       "          cnt       hum  windspeed      temp\n",
       "instant                                     \n",
       "1         985  0.805833   0.160446  0.344167\n",
       "2         801  0.696087   0.248539  0.363478\n",
       "3        1349  0.437273   0.248309  0.196364\n",
       "4        1562  0.590435   0.160296  0.200000\n",
       "5        1600  0.436957   0.186900  0.226957"
      ]
     },
     "execution_count": 27,
     "metadata": {},
     "output_type": "execute_result"
    }
   ],
   "source": [
    "bike_rental_v2.head()"
   ]
  },
  {
   "cell_type": "code",
   "execution_count": 28,
   "metadata": {},
   "outputs": [],
   "source": [
    "#creating dummy variables for categories for better analysis\n",
    "cat_names = [\"season\", \"yr\", \"mnth\", \"weekday\", \"workingday\", \"weathersit\"]\n",
    "for i in cat_names:\n",
    "    temp = pd.get_dummies(bike_rental[i], prefix = i)\n",
    "    bike_rental_v2 = bike_rental_v2.join(temp)"
   ]
  },
  {
   "cell_type": "code",
   "execution_count": 28,
   "metadata": {},
   "outputs": [
    {
     "data": {
      "text/html": [
       "<div>\n",
       "<style scoped>\n",
       "    .dataframe tbody tr th:only-of-type {\n",
       "        vertical-align: middle;\n",
       "    }\n",
       "\n",
       "    .dataframe tbody tr th {\n",
       "        vertical-align: top;\n",
       "    }\n",
       "\n",
       "    .dataframe thead th {\n",
       "        text-align: right;\n",
       "    }\n",
       "</style>\n",
       "<table border=\"1\" class=\"dataframe\">\n",
       "  <thead>\n",
       "    <tr style=\"text-align: right;\">\n",
       "      <th></th>\n",
       "      <th>cnt</th>\n",
       "      <th>hum</th>\n",
       "      <th>windspeed</th>\n",
       "      <th>temp</th>\n",
       "      <th>season_1</th>\n",
       "      <th>season_2</th>\n",
       "      <th>season_3</th>\n",
       "      <th>season_4</th>\n",
       "      <th>yr_0</th>\n",
       "      <th>yr_1</th>\n",
       "      <th>...</th>\n",
       "      <th>weekday_2</th>\n",
       "      <th>weekday_3</th>\n",
       "      <th>weekday_4</th>\n",
       "      <th>weekday_5</th>\n",
       "      <th>weekday_6</th>\n",
       "      <th>workingday_0</th>\n",
       "      <th>workingday_1</th>\n",
       "      <th>weathersit_1</th>\n",
       "      <th>weathersit_2</th>\n",
       "      <th>weathersit_3</th>\n",
       "    </tr>\n",
       "    <tr>\n",
       "      <th>instant</th>\n",
       "      <th></th>\n",
       "      <th></th>\n",
       "      <th></th>\n",
       "      <th></th>\n",
       "      <th></th>\n",
       "      <th></th>\n",
       "      <th></th>\n",
       "      <th></th>\n",
       "      <th></th>\n",
       "      <th></th>\n",
       "      <th></th>\n",
       "      <th></th>\n",
       "      <th></th>\n",
       "      <th></th>\n",
       "      <th></th>\n",
       "      <th></th>\n",
       "      <th></th>\n",
       "      <th></th>\n",
       "      <th></th>\n",
       "      <th></th>\n",
       "      <th></th>\n",
       "    </tr>\n",
       "  </thead>\n",
       "  <tbody>\n",
       "    <tr>\n",
       "      <th>1</th>\n",
       "      <td>985</td>\n",
       "      <td>0.805833</td>\n",
       "      <td>0.160446</td>\n",
       "      <td>0.344167</td>\n",
       "      <td>1</td>\n",
       "      <td>0</td>\n",
       "      <td>0</td>\n",
       "      <td>0</td>\n",
       "      <td>1</td>\n",
       "      <td>0</td>\n",
       "      <td>...</td>\n",
       "      <td>0</td>\n",
       "      <td>0</td>\n",
       "      <td>0</td>\n",
       "      <td>0</td>\n",
       "      <td>1</td>\n",
       "      <td>1</td>\n",
       "      <td>0</td>\n",
       "      <td>0</td>\n",
       "      <td>1</td>\n",
       "      <td>0</td>\n",
       "    </tr>\n",
       "    <tr>\n",
       "      <th>2</th>\n",
       "      <td>801</td>\n",
       "      <td>0.696087</td>\n",
       "      <td>0.248539</td>\n",
       "      <td>0.363478</td>\n",
       "      <td>1</td>\n",
       "      <td>0</td>\n",
       "      <td>0</td>\n",
       "      <td>0</td>\n",
       "      <td>1</td>\n",
       "      <td>0</td>\n",
       "      <td>...</td>\n",
       "      <td>0</td>\n",
       "      <td>0</td>\n",
       "      <td>0</td>\n",
       "      <td>0</td>\n",
       "      <td>0</td>\n",
       "      <td>1</td>\n",
       "      <td>0</td>\n",
       "      <td>0</td>\n",
       "      <td>1</td>\n",
       "      <td>0</td>\n",
       "    </tr>\n",
       "    <tr>\n",
       "      <th>3</th>\n",
       "      <td>1349</td>\n",
       "      <td>0.437273</td>\n",
       "      <td>0.248309</td>\n",
       "      <td>0.196364</td>\n",
       "      <td>1</td>\n",
       "      <td>0</td>\n",
       "      <td>0</td>\n",
       "      <td>0</td>\n",
       "      <td>1</td>\n",
       "      <td>0</td>\n",
       "      <td>...</td>\n",
       "      <td>0</td>\n",
       "      <td>0</td>\n",
       "      <td>0</td>\n",
       "      <td>0</td>\n",
       "      <td>0</td>\n",
       "      <td>0</td>\n",
       "      <td>1</td>\n",
       "      <td>1</td>\n",
       "      <td>0</td>\n",
       "      <td>0</td>\n",
       "    </tr>\n",
       "    <tr>\n",
       "      <th>4</th>\n",
       "      <td>1562</td>\n",
       "      <td>0.590435</td>\n",
       "      <td>0.160296</td>\n",
       "      <td>0.200000</td>\n",
       "      <td>1</td>\n",
       "      <td>0</td>\n",
       "      <td>0</td>\n",
       "      <td>0</td>\n",
       "      <td>1</td>\n",
       "      <td>0</td>\n",
       "      <td>...</td>\n",
       "      <td>1</td>\n",
       "      <td>0</td>\n",
       "      <td>0</td>\n",
       "      <td>0</td>\n",
       "      <td>0</td>\n",
       "      <td>0</td>\n",
       "      <td>1</td>\n",
       "      <td>1</td>\n",
       "      <td>0</td>\n",
       "      <td>0</td>\n",
       "    </tr>\n",
       "    <tr>\n",
       "      <th>5</th>\n",
       "      <td>1600</td>\n",
       "      <td>0.436957</td>\n",
       "      <td>0.186900</td>\n",
       "      <td>0.226957</td>\n",
       "      <td>1</td>\n",
       "      <td>0</td>\n",
       "      <td>0</td>\n",
       "      <td>0</td>\n",
       "      <td>1</td>\n",
       "      <td>0</td>\n",
       "      <td>...</td>\n",
       "      <td>0</td>\n",
       "      <td>1</td>\n",
       "      <td>0</td>\n",
       "      <td>0</td>\n",
       "      <td>0</td>\n",
       "      <td>0</td>\n",
       "      <td>1</td>\n",
       "      <td>1</td>\n",
       "      <td>0</td>\n",
       "      <td>0</td>\n",
       "    </tr>\n",
       "  </tbody>\n",
       "</table>\n",
       "<p>5 rows × 34 columns</p>\n",
       "</div>"
      ],
      "text/plain": [
       "          cnt       hum  windspeed      temp  season_1  season_2  season_3  \\\n",
       "instant                                                                      \n",
       "1         985  0.805833   0.160446  0.344167         1         0         0   \n",
       "2         801  0.696087   0.248539  0.363478         1         0         0   \n",
       "3        1349  0.437273   0.248309  0.196364         1         0         0   \n",
       "4        1562  0.590435   0.160296  0.200000         1         0         0   \n",
       "5        1600  0.436957   0.186900  0.226957         1         0         0   \n",
       "\n",
       "         season_4  yr_0  yr_1      ...       weekday_2  weekday_3  weekday_4  \\\n",
       "instant                            ...                                         \n",
       "1               0     1     0      ...               0          0          0   \n",
       "2               0     1     0      ...               0          0          0   \n",
       "3               0     1     0      ...               0          0          0   \n",
       "4               0     1     0      ...               1          0          0   \n",
       "5               0     1     0      ...               0          1          0   \n",
       "\n",
       "         weekday_5  weekday_6  workingday_0  workingday_1  weathersit_1  \\\n",
       "instant                                                                   \n",
       "1                0          1             1             0             0   \n",
       "2                0          0             1             0             0   \n",
       "3                0          0             0             1             1   \n",
       "4                0          0             0             1             1   \n",
       "5                0          0             0             1             1   \n",
       "\n",
       "         weathersit_2  weathersit_3  \n",
       "instant                              \n",
       "1                   1             0  \n",
       "2                   1             0  \n",
       "3                   0             0  \n",
       "4                   0             0  \n",
       "5                   0             0  \n",
       "\n",
       "[5 rows x 34 columns]"
      ]
     },
     "execution_count": 28,
     "metadata": {},
     "output_type": "execute_result"
    }
   ],
   "source": [
    "bike_rental_v2.head()"
   ]
  },
  {
   "cell_type": "code",
   "execution_count": 29,
   "metadata": {},
   "outputs": [],
   "source": [
    "#splitting into train test\n",
    "train,test = train_test_split(bike_rental_v2,test_size = 0.2, random_state = 0 )"
   ]
  },
  {
   "cell_type": "code",
   "execution_count": 30,
   "metadata": {},
   "outputs": [],
   "source": [
    "#model\n",
    "lm_model = sm.OLS(train.iloc[:,0].astype('float'),train.iloc[:,1:35].astype('float')).fit()"
   ]
  },
  {
   "cell_type": "code",
   "execution_count": 31,
   "metadata": {},
   "outputs": [
    {
     "data": {
      "text/html": [
       "<table class=\"simpletable\">\n",
       "<caption>OLS Regression Results</caption>\n",
       "<tr>\n",
       "  <th>Dep. Variable:</th>           <td>cnt</td>       <th>  R-squared:         </th> <td>   0.835</td> \n",
       "</tr>\n",
       "<tr>\n",
       "  <th>Model:</th>                   <td>OLS</td>       <th>  Adj. R-squared:    </th> <td>   0.826</td> \n",
       "</tr>\n",
       "<tr>\n",
       "  <th>Method:</th>             <td>Least Squares</td>  <th>  F-statistic:       </th> <td>   101.9</td> \n",
       "</tr>\n",
       "<tr>\n",
       "  <th>Date:</th>             <td>Thu, 25 Apr 2019</td> <th>  Prob (F-statistic):</th> <td>2.34e-193</td>\n",
       "</tr>\n",
       "<tr>\n",
       "  <th>Time:</th>                 <td>22:50:24</td>     <th>  Log-Likelihood:    </th> <td> -4617.7</td> \n",
       "</tr>\n",
       "<tr>\n",
       "  <th>No. Observations:</th>      <td>   573</td>      <th>  AIC:               </th> <td>   9291.</td> \n",
       "</tr>\n",
       "<tr>\n",
       "  <th>Df Residuals:</th>          <td>   545</td>      <th>  BIC:               </th> <td>   9413.</td> \n",
       "</tr>\n",
       "<tr>\n",
       "  <th>Df Model:</th>              <td>    27</td>      <th>                     </th>     <td> </td>    \n",
       "</tr>\n",
       "<tr>\n",
       "  <th>Covariance Type:</th>      <td>nonrobust</td>    <th>                     </th>     <td> </td>    \n",
       "</tr>\n",
       "</table>\n",
       "<table class=\"simpletable\">\n",
       "<tr>\n",
       "        <td></td>          <th>coef</th>     <th>std err</th>      <th>t</th>      <th>P>|t|</th>  <th>[0.025</th>    <th>0.975]</th>  \n",
       "</tr>\n",
       "<tr>\n",
       "  <th>hum</th>          <td>-1786.8118</td> <td>  352.359</td> <td>   -5.071</td> <td> 0.000</td> <td>-2478.960</td> <td>-1094.664</td>\n",
       "</tr>\n",
       "<tr>\n",
       "  <th>windspeed</th>    <td>-2820.2686</td> <td>  495.436</td> <td>   -5.692</td> <td> 0.000</td> <td>-3793.467</td> <td>-1847.070</td>\n",
       "</tr>\n",
       "<tr>\n",
       "  <th>temp</th>         <td> 4645.1269</td> <td>  471.538</td> <td>    9.851</td> <td> 0.000</td> <td> 3718.872</td> <td> 5571.382</td>\n",
       "</tr>\n",
       "<tr>\n",
       "  <th>season_1</th>     <td> -460.7587</td> <td>  145.208</td> <td>   -3.173</td> <td> 0.002</td> <td> -745.994</td> <td> -175.523</td>\n",
       "</tr>\n",
       "<tr>\n",
       "  <th>season_2</th>     <td>  562.2486</td> <td>  139.184</td> <td>    4.040</td> <td> 0.000</td> <td>  288.846</td> <td>  835.651</td>\n",
       "</tr>\n",
       "<tr>\n",
       "  <th>season_3</th>     <td>  503.6358</td> <td>  152.224</td> <td>    3.309</td> <td> 0.001</td> <td>  204.618</td> <td>  802.654</td>\n",
       "</tr>\n",
       "<tr>\n",
       "  <th>season_4</th>     <td> 1158.4398</td> <td>  154.587</td> <td>    7.494</td> <td> 0.000</td> <td>  854.781</td> <td> 1462.099</td>\n",
       "</tr>\n",
       "<tr>\n",
       "  <th>yr_0</th>         <td> -115.6771</td> <td>  100.548</td> <td>   -1.150</td> <td> 0.250</td> <td> -313.186</td> <td>   81.832</td>\n",
       "</tr>\n",
       "<tr>\n",
       "  <th>yr_1</th>         <td> 1879.2427</td> <td>   98.960</td> <td>   18.990</td> <td> 0.000</td> <td> 1684.854</td> <td> 2073.632</td>\n",
       "</tr>\n",
       "<tr>\n",
       "  <th>mnth_1</th>       <td>  -58.0634</td> <td>  200.770</td> <td>   -0.289</td> <td> 0.773</td> <td> -452.441</td> <td>  336.314</td>\n",
       "</tr>\n",
       "<tr>\n",
       "  <th>mnth_2</th>       <td>   32.9495</td> <td>  192.264</td> <td>    0.171</td> <td> 0.864</td> <td> -344.719</td> <td>  410.618</td>\n",
       "</tr>\n",
       "<tr>\n",
       "  <th>mnth_3</th>       <td>  472.7637</td> <td>  146.509</td> <td>    3.227</td> <td> 0.001</td> <td>  184.972</td> <td>  760.556</td>\n",
       "</tr>\n",
       "<tr>\n",
       "  <th>mnth_4</th>       <td>  215.6730</td> <td>  174.394</td> <td>    1.237</td> <td> 0.217</td> <td> -126.894</td> <td>  558.240</td>\n",
       "</tr>\n",
       "<tr>\n",
       "  <th>mnth_5</th>       <td>  483.5040</td> <td>  187.929</td> <td>    2.573</td> <td> 0.010</td> <td>  114.350</td> <td>  852.658</td>\n",
       "</tr>\n",
       "<tr>\n",
       "  <th>mnth_6</th>       <td>  114.6074</td> <td>  178.555</td> <td>    0.642</td> <td> 0.521</td> <td> -236.133</td> <td>  465.348</td>\n",
       "</tr>\n",
       "<tr>\n",
       "  <th>mnth_7</th>       <td> -248.4302</td> <td>  209.609</td> <td>   -1.185</td> <td> 0.236</td> <td> -660.170</td> <td>  163.310</td>\n",
       "</tr>\n",
       "<tr>\n",
       "  <th>mnth_8</th>       <td>   94.1385</td> <td>  203.007</td> <td>    0.464</td> <td> 0.643</td> <td> -304.634</td> <td>  492.911</td>\n",
       "</tr>\n",
       "<tr>\n",
       "  <th>mnth_9</th>       <td>  756.4432</td> <td>  162.222</td> <td>    4.663</td> <td> 0.000</td> <td>  437.787</td> <td> 1075.100</td>\n",
       "</tr>\n",
       "<tr>\n",
       "  <th>mnth_10</th>      <td>  354.1840</td> <td>  182.528</td> <td>    1.940</td> <td> 0.053</td> <td>   -4.361</td> <td>  712.729</td>\n",
       "</tr>\n",
       "<tr>\n",
       "  <th>mnth_11</th>      <td> -279.1326</td> <td>  193.722</td> <td>   -1.441</td> <td> 0.150</td> <td> -659.667</td> <td>  101.401</td>\n",
       "</tr>\n",
       "<tr>\n",
       "  <th>mnth_12</th>      <td> -175.0716</td> <td>  168.207</td> <td>   -1.041</td> <td> 0.298</td> <td> -505.486</td> <td>  155.342</td>\n",
       "</tr>\n",
       "<tr>\n",
       "  <th>weekday_0</th>    <td>  360.6470</td> <td>  158.632</td> <td>    2.273</td> <td> 0.023</td> <td>   49.041</td> <td>  672.253</td>\n",
       "</tr>\n",
       "<tr>\n",
       "  <th>weekday_1</th>    <td>   52.2405</td> <td>   93.416</td> <td>    0.559</td> <td> 0.576</td> <td> -131.259</td> <td>  235.740</td>\n",
       "</tr>\n",
       "<tr>\n",
       "  <th>weekday_2</th>    <td>   67.9153</td> <td>  109.188</td> <td>    0.622</td> <td> 0.534</td> <td> -146.565</td> <td>  282.396</td>\n",
       "</tr>\n",
       "<tr>\n",
       "  <th>weekday_3</th>    <td>  158.9977</td> <td>  107.307</td> <td>    1.482</td> <td> 0.139</td> <td>  -51.788</td> <td>  369.783</td>\n",
       "</tr>\n",
       "<tr>\n",
       "  <th>weekday_4</th>    <td>  138.5413</td> <td>  107.018</td> <td>    1.295</td> <td> 0.196</td> <td>  -71.676</td> <td>  348.759</td>\n",
       "</tr>\n",
       "<tr>\n",
       "  <th>weekday_5</th>    <td>  161.7529</td> <td>  103.924</td> <td>    1.556</td> <td> 0.120</td> <td>  -42.387</td> <td>  365.893</td>\n",
       "</tr>\n",
       "<tr>\n",
       "  <th>weekday_6</th>    <td>  823.4709</td> <td>  157.638</td> <td>    5.224</td> <td> 0.000</td> <td>  513.818</td> <td> 1133.124</td>\n",
       "</tr>\n",
       "<tr>\n",
       "  <th>workingday_0</th> <td>  600.9722</td> <td>  147.008</td> <td>    4.088</td> <td> 0.000</td> <td>  312.201</td> <td>  889.744</td>\n",
       "</tr>\n",
       "<tr>\n",
       "  <th>workingday_1</th> <td> 1162.5934</td> <td>  127.032</td> <td>    9.152</td> <td> 0.000</td> <td>  913.061</td> <td> 1412.126</td>\n",
       "</tr>\n",
       "<tr>\n",
       "  <th>weathersit_1</th> <td> 1319.7160</td> <td>   83.726</td> <td>   15.762</td> <td> 0.000</td> <td> 1155.250</td> <td> 1484.182</td>\n",
       "</tr>\n",
       "<tr>\n",
       "  <th>weathersit_2</th> <td>  959.6459</td> <td>   91.688</td> <td>   10.466</td> <td> 0.000</td> <td>  779.542</td> <td> 1139.750</td>\n",
       "</tr>\n",
       "<tr>\n",
       "  <th>weathersit_3</th> <td> -515.7963</td> <td>  189.635</td> <td>   -2.720</td> <td> 0.007</td> <td> -888.300</td> <td> -143.292</td>\n",
       "</tr>\n",
       "</table>\n",
       "<table class=\"simpletable\">\n",
       "<tr>\n",
       "  <th>Omnibus:</th>       <td>89.073</td> <th>  Durbin-Watson:     </th> <td>   1.853</td>\n",
       "</tr>\n",
       "<tr>\n",
       "  <th>Prob(Omnibus):</th> <td> 0.000</td> <th>  Jarque-Bera (JB):  </th> <td> 229.005</td>\n",
       "</tr>\n",
       "<tr>\n",
       "  <th>Skew:</th>          <td>-0.791</td> <th>  Prob(JB):          </th> <td>1.87e-50</td>\n",
       "</tr>\n",
       "<tr>\n",
       "  <th>Kurtosis:</th>      <td> 5.662</td> <th>  Cond. No.          </th> <td>1.12e+16</td>\n",
       "</tr>\n",
       "</table><br/><br/>Warnings:<br/>[1] Standard Errors assume that the covariance matrix of the errors is correctly specified.<br/>[2] The smallest eigenvalue is 1.26e-29. This might indicate that there are<br/>strong multicollinearity problems or that the design matrix is singular."
      ],
      "text/plain": [
       "<class 'statsmodels.iolib.summary.Summary'>\n",
       "\"\"\"\n",
       "                            OLS Regression Results                            \n",
       "==============================================================================\n",
       "Dep. Variable:                    cnt   R-squared:                       0.835\n",
       "Model:                            OLS   Adj. R-squared:                  0.826\n",
       "Method:                 Least Squares   F-statistic:                     101.9\n",
       "Date:                Thu, 25 Apr 2019   Prob (F-statistic):          2.34e-193\n",
       "Time:                        22:50:24   Log-Likelihood:                -4617.7\n",
       "No. Observations:                 573   AIC:                             9291.\n",
       "Df Residuals:                     545   BIC:                             9413.\n",
       "Df Model:                          27                                         \n",
       "Covariance Type:            nonrobust                                         \n",
       "================================================================================\n",
       "                   coef    std err          t      P>|t|      [0.025      0.975]\n",
       "--------------------------------------------------------------------------------\n",
       "hum          -1786.8118    352.359     -5.071      0.000   -2478.960   -1094.664\n",
       "windspeed    -2820.2686    495.436     -5.692      0.000   -3793.467   -1847.070\n",
       "temp          4645.1269    471.538      9.851      0.000    3718.872    5571.382\n",
       "season_1      -460.7587    145.208     -3.173      0.002    -745.994    -175.523\n",
       "season_2       562.2486    139.184      4.040      0.000     288.846     835.651\n",
       "season_3       503.6358    152.224      3.309      0.001     204.618     802.654\n",
       "season_4      1158.4398    154.587      7.494      0.000     854.781    1462.099\n",
       "yr_0          -115.6771    100.548     -1.150      0.250    -313.186      81.832\n",
       "yr_1          1879.2427     98.960     18.990      0.000    1684.854    2073.632\n",
       "mnth_1         -58.0634    200.770     -0.289      0.773    -452.441     336.314\n",
       "mnth_2          32.9495    192.264      0.171      0.864    -344.719     410.618\n",
       "mnth_3         472.7637    146.509      3.227      0.001     184.972     760.556\n",
       "mnth_4         215.6730    174.394      1.237      0.217    -126.894     558.240\n",
       "mnth_5         483.5040    187.929      2.573      0.010     114.350     852.658\n",
       "mnth_6         114.6074    178.555      0.642      0.521    -236.133     465.348\n",
       "mnth_7        -248.4302    209.609     -1.185      0.236    -660.170     163.310\n",
       "mnth_8          94.1385    203.007      0.464      0.643    -304.634     492.911\n",
       "mnth_9         756.4432    162.222      4.663      0.000     437.787    1075.100\n",
       "mnth_10        354.1840    182.528      1.940      0.053      -4.361     712.729\n",
       "mnth_11       -279.1326    193.722     -1.441      0.150    -659.667     101.401\n",
       "mnth_12       -175.0716    168.207     -1.041      0.298    -505.486     155.342\n",
       "weekday_0      360.6470    158.632      2.273      0.023      49.041     672.253\n",
       "weekday_1       52.2405     93.416      0.559      0.576    -131.259     235.740\n",
       "weekday_2       67.9153    109.188      0.622      0.534    -146.565     282.396\n",
       "weekday_3      158.9977    107.307      1.482      0.139     -51.788     369.783\n",
       "weekday_4      138.5413    107.018      1.295      0.196     -71.676     348.759\n",
       "weekday_5      161.7529    103.924      1.556      0.120     -42.387     365.893\n",
       "weekday_6      823.4709    157.638      5.224      0.000     513.818    1133.124\n",
       "workingday_0   600.9722    147.008      4.088      0.000     312.201     889.744\n",
       "workingday_1  1162.5934    127.032      9.152      0.000     913.061    1412.126\n",
       "weathersit_1  1319.7160     83.726     15.762      0.000    1155.250    1484.182\n",
       "weathersit_2   959.6459     91.688     10.466      0.000     779.542    1139.750\n",
       "weathersit_3  -515.7963    189.635     -2.720      0.007    -888.300    -143.292\n",
       "==============================================================================\n",
       "Omnibus:                       89.073   Durbin-Watson:                   1.853\n",
       "Prob(Omnibus):                  0.000   Jarque-Bera (JB):              229.005\n",
       "Skew:                          -0.791   Prob(JB):                     1.87e-50\n",
       "Kurtosis:                       5.662   Cond. No.                     1.12e+16\n",
       "==============================================================================\n",
       "\n",
       "Warnings:\n",
       "[1] Standard Errors assume that the covariance matrix of the errors is correctly specified.\n",
       "[2] The smallest eigenvalue is 1.26e-29. This might indicate that there are\n",
       "strong multicollinearity problems or that the design matrix is singular.\n",
       "\"\"\""
      ]
     },
     "execution_count": 31,
     "metadata": {},
     "output_type": "execute_result"
    }
   ],
   "source": [
    "lm_model.summary()"
   ]
  },
  {
   "cell_type": "code",
   "execution_count": 32,
   "metadata": {},
   "outputs": [],
   "source": [
    "#creating mape error function\n",
    "def MAPE(y_true,y_pred):\n",
    "    mape = np.mean((np.abs(y_true-y_pred)/y_true)*100)\n",
    "    return mape"
   ]
  },
  {
   "cell_type": "code",
   "execution_count": 33,
   "metadata": {},
   "outputs": [],
   "source": [
    "#predictions\n",
    "predict_lm = lm_model.predict(test.iloc[:,1:35])\n"
   ]
  },
  {
   "cell_type": "code",
   "execution_count": 34,
   "metadata": {},
   "outputs": [
    {
     "data": {
      "text/plain": [
       "16.263421196194013"
      ]
     },
     "execution_count": 34,
     "metadata": {},
     "output_type": "execute_result"
    }
   ],
   "source": [
    "MAPE(test.iloc[:,0],predict_lm)"
   ]
  },
  {
   "cell_type": "code",
   "execution_count": 35,
   "metadata": {},
   "outputs": [],
   "source": [
    "#16.26 - MAPE\n",
    "#83.3- adjusted R Squared"
   ]
  },
  {
   "cell_type": "code",
   "execution_count": 36,
   "metadata": {},
   "outputs": [],
   "source": [
    "#Decision Tree Classifier"
   ]
  },
  {
   "cell_type": "code",
   "execution_count": 37,
   "metadata": {},
   "outputs": [],
   "source": [
    "from sklearn.tree import DecisionTreeRegressor"
   ]
  },
  {
   "cell_type": "code",
   "execution_count": 38,
   "metadata": {},
   "outputs": [],
   "source": [
    "model_dtr = DecisionTreeRegressor(max_depth =5,random_state = 0).fit(train.iloc[:,1:35],train.iloc[:,0])"
   ]
  },
  {
   "cell_type": "code",
   "execution_count": 39,
   "metadata": {},
   "outputs": [],
   "source": [
    "#predictions\n",
    "predict_dtr = model_dtr.predict(test.iloc[:,1:35])"
   ]
  },
  {
   "cell_type": "code",
   "execution_count": 40,
   "metadata": {},
   "outputs": [
    {
     "data": {
      "text/plain": [
       "0.8768452125200759"
      ]
     },
     "execution_count": 40,
     "metadata": {},
     "output_type": "execute_result"
    }
   ],
   "source": [
    "#R square function\n",
    "r2_score(test.iloc[:,0],predict_dtr)"
   ]
  },
  {
   "cell_type": "code",
   "execution_count": 41,
   "metadata": {},
   "outputs": [
    {
     "data": {
      "text/plain": [
       "18.05856692699881"
      ]
     },
     "execution_count": 41,
     "metadata": {},
     "output_type": "execute_result"
    }
   ],
   "source": [
    "MAPE(test.iloc[:,0],predict_dtr)"
   ]
  },
  {
   "cell_type": "code",
   "execution_count": 42,
   "metadata": {},
   "outputs": [],
   "source": [
    "#18.05\n",
    "#0.8768"
   ]
  },
  {
   "cell_type": "code",
   "execution_count": 43,
   "metadata": {},
   "outputs": [
    {
     "name": "stderr",
     "output_type": "stream",
     "text": [
      "C:\\ProgramData\\Anaconda3\\lib\\site-packages\\sklearn\\ensemble\\weight_boosting.py:29: DeprecationWarning: numpy.core.umath_tests is an internal NumPy module and should not be imported. It will be removed in a future NumPy release.\n",
      "  from numpy.core.umath_tests import inner1d\n"
     ]
    }
   ],
   "source": [
    "#random forest regressor\n",
    "from sklearn.ensemble import RandomForestRegressor"
   ]
  },
  {
   "cell_type": "code",
   "execution_count": 44,
   "metadata": {},
   "outputs": [],
   "source": [
    "model_rfr = RandomForestRegressor(n_estimators = 100,random_state = 0).fit(train.iloc[:,1:35],train.iloc[:,0])"
   ]
  },
  {
   "cell_type": "code",
   "execution_count": 45,
   "metadata": {},
   "outputs": [],
   "source": [
    "#predictions\n",
    "predict_rfr = model_rfr.predict(test.iloc[:,1:35])"
   ]
  },
  {
   "cell_type": "code",
   "execution_count": 46,
   "metadata": {},
   "outputs": [
    {
     "data": {
      "text/plain": [
       "0.922318025372411"
      ]
     },
     "execution_count": 46,
     "metadata": {},
     "output_type": "execute_result"
    }
   ],
   "source": [
    "r2_score(test.iloc[:,0],predict_rfr)"
   ]
  },
  {
   "cell_type": "code",
   "execution_count": 47,
   "metadata": {},
   "outputs": [
    {
     "data": {
      "text/plain": [
       "15.278012951852311"
      ]
     },
     "execution_count": 47,
     "metadata": {},
     "output_type": "execute_result"
    }
   ],
   "source": [
    "MAPE(test.iloc[:,0],predict_rfr)"
   ]
  },
  {
   "cell_type": "code",
   "execution_count": 48,
   "metadata": {},
   "outputs": [],
   "source": [
    "#15.27\n",
    "#0.92223"
   ]
  },
  {
   "cell_type": "code",
   "execution_count": null,
   "metadata": {},
   "outputs": [],
   "source": []
  }
 ],
 "metadata": {
  "kernelspec": {
   "display_name": "Python 3",
   "language": "python",
   "name": "python3"
  },
  "language_info": {
   "codemirror_mode": {
    "name": "ipython",
    "version": 3
   },
   "file_extension": ".py",
   "mimetype": "text/x-python",
   "name": "python",
   "nbconvert_exporter": "python",
   "pygments_lexer": "ipython3",
   "version": "3.7.0"
  }
 },
 "nbformat": 4,
 "nbformat_minor": 2
}
